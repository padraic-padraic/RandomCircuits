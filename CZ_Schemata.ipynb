{
 "cells": [
  {
   "cell_type": "code",
   "execution_count": 1,
   "metadata": {},
   "outputs": [],
   "source": [
    "import networkx\n",
    "import numpy as np\n",
    "\n",
    "from matplotlib import pyplot\n",
    "\n",
    "import random\n",
    "\n",
    "%matplotlib inline"
   ]
  },
  {
   "cell_type": "code",
   "execution_count": 2,
   "metadata": {},
   "outputs": [],
   "source": [
    "grid_graph = networkx.grid_graph([5,5])"
   ]
  },
  {
   "cell_type": "code",
   "execution_count": 3,
   "metadata": {},
   "outputs": [],
   "source": [
    "def generate_random_cz_schema(lattice_graph): # Hey turns out this method is just \n",
    "    loop_state = networkx.graphviews.generic_graph_view(lattice_graph)\n",
    "    visited_edges = []\n",
    "    cz_schema = {}\n",
    "    layer_counter = 1\n",
    "    while not networkx.is_empty(loop_state):\n",
    "        layer_state = networkx.graphviews.generic_graph_view(loop_state)\n",
    "        nodes_to_ignore = set()\n",
    "        edges = []\n",
    "        while not networkx.is_empty(layer_state):\n",
    "            random_edge = random.choice(list(layer_state.edges))\n",
    "            neighbours = [neighbour for neighbour in lattice_graph.adj[random_edge[0]]]\n",
    "            neighbours += [neighbour for neighbour in lattice_graph.adj[random_edge[1]]]\n",
    "            for n in neighbours:\n",
    "                nodes_to_ignore.add(n)\n",
    "            nodes_to_ignore.add(random_edge[0])\n",
    "            nodes_to_ignore.add(random_edge[1])\n",
    "            edges.append(random_edge)\n",
    "            layer_state = networkx.graphviews.subgraph_view(\n",
    "                loop_state,\n",
    "                filter_node=networkx.filters.hide_nodes(nodes_to_ignore))\n",
    "            assert(random_edge not in layer_state.edges)      \n",
    "        for e in edges:\n",
    "            visited_edges.append(e)\n",
    "        cz_schema['layer_{}'.format(layer_counter)] = edges\n",
    "        layer_counter += 1\n",
    "        loop_state = networkx.graphviews.subgraph_view(\n",
    "            lattice_graph,\n",
    "            filter_edge=networkx.filters.hide_edges(visited_edges))\n",
    "    return cz_schema\n"
   ]
  },
  {
   "cell_type": "code",
   "execution_count": 4,
   "metadata": {},
   "outputs": [],
   "source": [
    "def index_to_coords(index, dimensions):\n",
    "    def div_n_mod(val, div, mod):\n",
    "        return (val//div)%mod\n",
    "    divs = [1]\n",
    "    for d in dimensions:\n",
    "        divs.append(divs[-1]*d)\n",
    "    return tuple(div_n_mod(index, div, mod) for div, mod in zip(divs, dimensions))\n",
    "        \n",
    "        "
   ]
  },
  {
   "cell_type": "code",
   "execution_count": 5,
   "metadata": {},
   "outputs": [
    {
     "ename": "SyntaxError",
     "evalue": "invalid syntax (<ipython-input-5-8ac08c5851a5>, line 15)",
     "output_type": "error",
     "traceback": [
      "\u001b[0;36m  File \u001b[0;32m\"<ipython-input-5-8ac08c5851a5>\"\u001b[0;36m, line \u001b[0;32m15\u001b[0m\n\u001b[0;31m    alt_lengths = [lengths[i] for in in range(dimenson) if i != main_axis]\u001b[0m\n\u001b[0m                                   ^\u001b[0m\n\u001b[0;31mSyntaxError\u001b[0m\u001b[0;31m:\u001b[0m invalid syntax\n"
     ]
    }
   ],
   "source": [
    "oop_state = networkx.graphviews.generic_graph_view(lattice_graph)\n",
    "visited_edges = []\n",
    "cz_schema = {}\n",
    "layer_counter = 0\n",
    "top_node = list(grid_graph.nodes)[-1]\n",
    "dimension = len(top_node)\n",
    "lengths = [dim+1 for dim in top_node]\n",
    "visited_edges = []\n",
    "while not networkx.is_empty(loop_state):\n",
    "    layer_state = networkx.graphviews.generic_graph_viw(loop_state)\n",
    "    excluded_nodes = set()\n",
    "    main_axis = layer_counter % len(top_node)\n",
    "    points = 1\n",
    "    alt_axes = [i for i in range(dimension) if i != main_axis]\n",
    "    alt_lengths = [lengths[i] for i in range(dimenson) if i != main_axis]\n",
    "    for axis in alt_axes:\n",
    "        points *= top_index(axis)\n",
    "    for p in range(points):\n",
    "        position = index_to_coords(p, alt_lengths)\n",
    "        for i in range(lengths[main_axis] - 1):\n",
    "            node = position[:main_axis] + tuple([i]) + position[main_axis:]\n",
    "            if node in layer_state.nodes:\n",
    "                node_2 = position[:main_axis] + tuple([i+1]) + position[main_axis:]\n",
    "                edge = tuple((node, node_2))\n",
    "                if edge in layer_state.edges:\n",
    "                    neighbours = [neighbour for neighbour in lattice_graph.adj[node]]\n",
    "                    neighbours += [neighbour for neighbour in lattice_graph.adj[node_2]]\n",
    "                    for n in neighbours:\n",
    "                        nodes_to_ignore.add(n)\n",
    "                    excluded_nodes.add(node)\n",
    "                    excluded_nodes.add(node_2)\n",
    "                    edges.append(edge)\n",
    "                    layer_state = networkx.graphviews.subgraph_view(\n",
    "                        loop_state,\n",
    "                        filter_node=networkx.filters.hide_nodes(nodes_to_ignore))\n",
    "    for e in edges:\n",
    "        visited_edges.append(e)\n",
    "    layer_counter += 1\n",
    "    cz_schema['layer_{}'.format(layer_counter)] = edges\n",
    "    loop_state = networkx.graphviews.subgraph_view(\n",
    "            lattice_graph,\n",
    "            filter_edge=networkx.filters.hide_edges(visited_edges))\n",
    "            #if position is in the layer_view, check for it's next neighbour\n",
    "            #if so, add that edge, drop the nodes and their neighbours"
   ]
  },
  {
   "cell_type": "code",
   "execution_count": 170,
   "metadata": {},
   "outputs": [
    {
     "data": {
      "text/plain": [
       "[0, 1, 2, 3, 4, 5]"
      ]
     },
     "execution_count": 170,
     "metadata": {},
     "output_type": "execute_result"
    }
   ],
   "source": [
    "a = [0,1,2,4,5]\n",
    "a.insert(3,3)\n",
    "a"
   ]
  },
  {
   "cell_type": "code",
   "execution_count": 8,
   "metadata": {},
   "outputs": [
    {
     "data": {
      "text/plain": [
       "(1, 2)"
      ]
     },
     "execution_count": 8,
     "metadata": {},
     "output_type": "execute_result"
    }
   ],
   "source": [
    "tuple((1,2))"
   ]
  },
  {
   "cell_type": "code",
   "execution_count": null,
   "metadata": {},
   "outputs": [],
   "source": []
  }
 ],
 "metadata": {
  "kernelspec": {
   "display_name": "Python 3",
   "language": "python",
   "name": "python3"
  },
  "language_info": {
   "codemirror_mode": {
    "name": "ipython",
    "version": 3
   },
   "file_extension": ".py",
   "mimetype": "text/x-python",
   "name": "python",
   "nbconvert_exporter": "python",
   "pygments_lexer": "ipython3",
   "version": "3.7.3"
  }
 },
 "nbformat": 4,
 "nbformat_minor": 2
}
