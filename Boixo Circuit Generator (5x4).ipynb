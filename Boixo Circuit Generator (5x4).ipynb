{
 "cells": [
  {
   "cell_type": "code",
   "execution_count": 1,
   "metadata": {},
   "outputs": [],
   "source": [
    "from random import randrange\n",
    "\n",
    "import matplotlib.pyplot as plt\n",
    "import numpy as np\n",
    "%matplotlib inline"
   ]
  },
  {
   "cell_type": "code",
   "execution_count": 142,
   "metadata": {},
   "outputs": [],
   "source": [
    "from qiskit import QuantumCircuit, QuantumRegister\n"
   ]
  },
  {
   "cell_type": "code",
   "execution_count": 5,
   "metadata": {},
   "outputs": [],
   "source": [
    "CZ_schema = (\n",
    "    ((0, 1), (6, 7), (8, 9), (14, 15), (16, 17)),\n",
    "    ((2, 3), (4, 5), (10, 11), (12, 13), (18, 19)),\n",
    "    ((1, 2), (9, 10), (17, 18)),\n",
    "    ((5, 6), (13,14)),\n",
    "    ((0, 4), (2, 6), (9, 13), (11, 15)),\n",
    "    ((4, 8), (6, 10), (13, 17), (15, 19)),\n",
    "    ((1, 5), (3, 7), (8, 12), (10, 14)),\n",
    "    ((5, 9), (7, 11), (12, 16), (14, 18))\n",
    ")"
   ]
  },
  {
   "cell_type": "code",
   "execution_count": 32,
   "metadata": {},
   "outputs": [],
   "source": [
    "def boixo_circuit(n_qubits, CZ_schema, depth):\n",
    "    register = QuantumRegister(n_qubits)\n",
    "    circuit = QuantumCircuit(register)\n",
    "    for qubit in range(n_qubits):\n",
    "        #Initial Hadamard Layer\n",
    "        circuit.h(register[qubit])\n",
    "    for layer in range(depth):\n",
    "        CZ_gates = CZ_schema[layer % len(CZ_schema)]\n",
    "        for control, target in CZ_gates:\n",
    "            circuit.cz(register[control], register[target])\n",
    "        for qubit in range(n_qubits):\n",
    "            if any(qubit in gate for gate in CZ_gates):\n",
    "                continue\n",
    "            if layer == 0:\n",
    "                circuit.t(register[qubit])\n",
    "            else:\n",
    "                prev_CZs = CZ_schema[(layer-1) % len(CZ_schema)]\n",
    "                if any(qubit in gate for gate in prev_CZs):\n",
    "                    gate = randrange(3)\n",
    "                    if layer == 1:\n",
    "                        circuit.t(register[qubit])\n",
    "                    elif gate == 0:\n",
    "                        circuit.t(register[qubit])\n",
    "                    elif gate == 1:\n",
    "                        circuit.x(register[qubit])\n",
    "                    else:\n",
    "                        circuit.y(register[qubit])\n",
    "    return register, circuit\n",
    "                            "
   ]
  },
  {
   "cell_type": "code",
   "execution_count": 33,
   "metadata": {},
   "outputs": [],
   "source": [
    "register, circuit = boixo_circuit(20, CZ_schema, 40)"
   ]
  },
  {
   "cell_type": "code",
   "execution_count": 49,
   "metadata": {},
   "outputs": [],
   "source": [
    "def count_ts(circuit, qubit_no):\n",
    "    return [gate.name for gate in circuit.data if gate._qubit_coupling==[qubit_no]].count('t')"
   ]
  },
  {
   "cell_type": "code",
   "execution_count": 163,
   "metadata": {},
   "outputs": [
    {
     "name": "stdout",
     "output_type": "stream",
     "text": [
      "5\n",
      "10\n",
      "15\n",
      "20\n",
      "25\n",
      "30\n",
      "35\n",
      "40\n",
      "45\n",
      "50\n",
      "55\n",
      "60\n",
      "65\n",
      "70\n",
      "75\n",
      "80\n",
      "85\n",
      "90\n",
      "95\n",
      "100\n",
      "105\n",
      "110\n",
      "115\n",
      "120\n",
      "125\n",
      "130\n",
      "135\n",
      "140\n",
      "145\n",
      "150\n",
      "155\n",
      "160\n",
      "165\n",
      "170\n",
      "175\n",
      "180\n",
      "185\n",
      "190\n",
      "195\n",
      "200\n",
      "205\n",
      "210\n",
      "215\n",
      "220\n",
      "225\n",
      "230\n",
      "235\n",
      "240\n",
      "245\n",
      "250\n",
      "255\n",
      "260\n",
      "265\n",
      "270\n",
      "275\n",
      "280\n",
      "285\n",
      "290\n",
      "295\n",
      "300\n"
     ]
    }
   ],
   "source": [
    "average_count = np.zeros(60,)\n",
    "odd_count = np.zeros(60,)\n",
    "\n",
    "for depth in range(5, 305, 5):\n",
    "    print(depth)\n",
    "    register, circuit = boixo_circuit(20, CZ_schema, depth)\n",
    "    t_counts = np.zeros([1000,20])\n",
    "    for i in range(1000):\n",
    "        t_counts[i] = np.array([count_ts(circuit, i) for i in range(20)])\n",
    "    index = depth//5 -1\n",
    "    average_count[index] = np.mean(np.mean(t_counts, axis=0))\n",
    "    odd_count[index] = np.sum(np.mean(t_counts % 2 == 1, axis=0))\n"
   ]
  },
  {
   "cell_type": "code",
   "execution_count": 164,
   "metadata": {},
   "outputs": [],
   "source": [
    "depths = list(range(5,305,5))"
   ]
  },
  {
   "cell_type": "code",
   "execution_count": 166,
   "metadata": {},
   "outputs": [
    {
     "name": "stdout",
     "output_type": "stream",
     "text": [
      "9.833333333333334\n"
     ]
    },
    {
     "data": {
      "image/png": "[encoded data removed]",
      "text/plain": [
       "<Figure size 432x288 with 1 Axes>"
      ]
     },
     "metadata": {
      "needs_background": "light"
     },
     "output_type": "display_data"
    }
   ],
   "source": [
    "plt.bar(depths, odd_count)\n",
    "print(np.mean(odd_count))"
   ]
  },
  {
   "cell_type": "code",
   "execution_count": 96,
   "metadata": {},
   "outputs": [
    {
     "data": {
      "text/plain": [
       "array([[1., 2., 3., 4., 5.],\n",
       "       [0., 0., 0., 0., 0.],\n",
       "       [0., 0., 0., 0., 0.],\n",
       "       [0., 0., 0., 0., 0.],\n",
       "       [0., 0., 0., 0., 0.],\n",
       "       [0., 0., 0., 0., 0.],\n",
       "       [0., 0., 0., 0., 0.],\n",
       "       [0., 0., 0., 0., 0.],\n",
       "       [0., 0., 0., 0., 0.],\n",
       "       [0., 0., 0., 0., 0.]])"
      ]
     },
     "execution_count": 96,
     "metadata": {},
     "output_type": "execute_result"
    }
   ],
   "source": []
  },
  {
   "cell_type": "code",
   "execution_count": null,
   "metadata": {},
   "outputs": [],
   "source": []
  },
  {
   "cell_type": "code",
   "execution_count": null,
   "metadata": {},
   "outputs": [],
   "source": []
  }
 ],
 "metadata": {
  "kernelspec": {
   "display_name": "Python 3",
   "language": "python",
   "name": "python3"
  },
  "language_info": {
   "codemirror_mode": {
    "name": "ipython",
    "version": 3
   },
   "file_extension": ".py",
   "mimetype": "text/x-python",
   "name": "python",
   "nbconvert_exporter": "python",
   "pygments_lexer": "ipython3",
   "version": "3.7.0"
  }
 },
 "nbformat": 4,
 "nbformat_minor": 2
}
