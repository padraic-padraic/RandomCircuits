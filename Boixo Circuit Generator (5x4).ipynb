{
 "cells": [
  {
   "cell_type": "code",
   "execution_count": 3,
   "metadata": {},
   "outputs": [],
   "source": [
    "from qiskit import QuantumCircuit, QuantumRegister\n",
    "\n",
    "import numpy as np\n",
    "from random import randrange"
   ]
  },
  {
   "cell_type": "code",
   "execution_count": 5,
   "metadata": {},
   "outputs": [],
   "source": [
    "CZ_schema = (\n",
    "    ((0, 1), (6, 7), (8, 9), (14, 15), (16, 17)),\n",
    "    ((2, 3), (4, 5), (10, 11), (12, 13), (18, 19)),\n",
    "    ((1, 2), (9, 10), (17, 18)),\n",
    "    ((5, 6), (13,14)),\n",
    "    ((0, 4), (2, 6), (9, 13), (11, 15)),\n",
    "    ((4, 8), (6, 10), (13, 17), (15, 19)),\n",
    "    ((1, 5), (3, 7), (8, 12), (10, 14)),\n",
    "    ((5, 9), (7, 11), (12, 16), (14, 18))\n",
    ")"
   ]
  },
  {
   "cell_type": "code",
   "execution_count": 9,
   "metadata": {},
   "outputs": [],
   "source": [
    "def boixo_circuit(n_qubits, CZ_schema, depth):\n",
    "    register = QuantumRegister(n_qubits)\n",
    "    circuit = QauntumCircuit(register)\n",
    "    for qubit in range(n_qubits):\n",
    "        #Initial Hadamard Layer\n",
    "        qc.h(register[qubit])\n",
    "    for layer in range(depth):\n",
    "        CZ_gates = CZ_schema[layer % len(CZ_schema)]\n",
    "        for control, target in CZ_gates:\n",
    "            qc.cz(register[control], register[target])\n",
    "        for qubit in range(n_qubits):\n",
    "            if any(qubit in gate for gate in CZ_gates):\n",
    "                continue\n",
    "            if layer == 0:\n",
    "                qc.T(register[qubit])\n",
    "            else:\n",
    "                prev_CZs = CZ_schema[(layer-1) % len(CZ_schema)]\n",
    "                if any(qubit in gate for gate in prev_CZs):\n",
    "                    gate = randrange(3)\n",
    "                    if layer == 1 or gate == 0:\n",
    "                        qc.T(register[qubit])\n",
    "                    elif gate == 1:\n",
    "                        qc.X(register[qubit])\n",
    "                    else:\n",
    "                        qc.Y(regoster[qubit])\n",
    "    return register, circuit\n",
    "                            "
   ]
  },
  {
   "cell_type": "code",
   "execution_count": 8,
   "metadata": {},
   "outputs": [
    {
     "data": {
      "text/plain": [
       "7"
      ]
     },
     "execution_count": 8,
     "metadata": {},
     "output_type": "execute_result"
    }
   ],
   "source": [
    "-1%8"
   ]
  },
  {
   "cell_type": "code",
   "execution_count": null,
   "metadata": {},
   "outputs": [],
   "source": []
  }
 ],
 "metadata": {
  "kernelspec": {
   "display_name": "Python 3",
   "language": "python",
   "name": "python3"
  },
  "language_info": {
   "codemirror_mode": {
    "name": "ipython",
    "version": 3
   },
   "file_extension": ".py",
   "mimetype": "text/x-python",
   "name": "python",
   "nbconvert_exporter": "python",
   "pygments_lexer": "ipython3",
   "version": "3.6.6"
  }
 },
 "nbformat": 4,
 "nbformat_minor": 2
}
